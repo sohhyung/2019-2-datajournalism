{
 "cells": [
  {
   "cell_type": "markdown",
   "metadata": {},
   "source": [
    "# 글로벌 날씨 기사 생성\n"
   ]
  },
  {
   "cell_type": "markdown",
   "metadata": {},
   "source": [
    "도시 이름으로 input을 넣으면 기사를 자동 생성해주는 함수"
   ]
  },
  {
   "cell_type": "code",
   "execution_count": 221,
   "metadata": {},
   "outputs": [],
   "source": [
    "import urllib.request\n",
    "from urllib import parse\n",
    "import json\n",
    "from datetime import datetime\n"
   ]
  },
  {
   "cell_type": "code",
   "execution_count": 222,
   "metadata": {
    "scrolled": true
   },
   "outputs": [],
   "source": [
    "def weather_fetch(loc):\n",
    "    app_key = \"\"\n",
    "    url = \"\".format(loc, app_key)\n",
    "    with urllib.request.urlopen(url) as response:\n",
    "        weather_data = json.loads(response.read().decode(\"utf-8\"))\n",
    "    w_list = [loc, weather_data]\n",
    "    return w_list\n"
   ]
  },
  {
   "cell_type": "code",
   "execution_count": 223,
   "metadata": {},
   "outputs": [],
   "source": [
    "def make_the_dic(w_list):\n",
    "    weather_data = w_list[1]\n",
    "    weather_city = w_list[0]\n",
    "    weather_ab = weather_data[\"weather\"][0]\n",
    "    \n",
    "    weather_m = weather_data[\"main\"]\n",
    "    weather_w = weather_data[\"wind\"]\n",
    "\n",
    "    weather_dic = {'city':weather_city,'description' : weather_ab[\"main\"], 'temp' : weather_m[\"temp\"], \"temp_min\" : weather_m[\"temp_min\"],\"humidity\" :weather_m[\"humidity\"], \"temp_max\" : weather_m[\"temp_max\"], \"wind_speed\" : weather_w[\"speed\"]}\n",
    "    return weather_dic\n"
   ]
  },
  {
   "cell_type": "code",
   "execution_count": 224,
   "metadata": {},
   "outputs": [],
   "source": [
    "def article(w_info):\n",
    "    dt = datetime.now()\n",
    "    article_date = \"오늘은 {}년 {}월 {}일 입니다. 현재 시각 {}시 {}분, {}의 날씨를 안내해드리겠습니다.\".format(dt.year, dt.month, dt.day, dt.hour,dt.minute,w_info[\"city\"])\n",
    "    if w_info[\"description\"] == \"Clear\":\n",
    "        article_front = \" 오늘 {}의 날씨는 맑겠습니다.\".format(w_info[\"city\"])\n",
    "    elif w_info[\"description\"] == \"Rain\":\n",
    "        article_front = \"현재 {}에서는 비가 내리고 있습니다.\".format(w_info[\"city\"])\n",
    "    elif w_info[\"description\"] == \"Clouds\":\n",
    "        article_front = \"현재 {}에서는 구름이 낀 흐린 날씨입니다.\".format(w_info[\"city\"])\n",
    "\n",
    "    \n",
    "    if w_info[\"temp\"] <=5 :\n",
    "        article_temp = \" 기온은 {}도로 한국의 겨울 날씨입니다. 최저 기온은 {}도, 최고기온은 {}입니다.\".format(w_info[\"temp\"],w_info[\"temp_min\"],w_info[\"temp_max\"])\n",
    "    elif (5<w_info[\"temp\"] <20) :\n",
    "        article_temp = \" 기온은 {}도로 한국의 봄,가을 날씨입니다. 최저 기온은 {}도, 최고기온은 {}입니다.\".format(w_info[\"temp\"],w_info[\"temp_min\"],w_info[\"temp_max\"])\n",
    "    elif w_info[\"temp\"] >=20 :\n",
    "        article_temp = \" 기온은 {}도로 한국의 여름 날씨입니다. 최저 기온은 {}도, 최고기온은 {}입니다.\".format(w_info[\"temp\"],w_info[\"temp_min\"],w_info[\"temp_max\"])\n",
    "    \n",
    "    difference = w_info[\"temp_max\"]-w_info[\"temp_min\"]\n",
    "    if difference >=10 :\n",
    "        article_d = \" 오늘은 일교차가 {}도로 큽니다. 감기 조심하세요\".format(difference)\n",
    "    elif difference<10 :\n",
    "        article_d = \"\"\n",
    "    \n",
    "    if w_info[\"humidity\"] <=40 :\n",
    "        article_humidity = \" 오늘은 습도가 {}%로 건조합니다.\".format(w_info[\"humidity\"])\n",
    "    elif (40<w_info[\"humidity\"] <60) :\n",
    "        article_humidity = \" 오늘은 습도가 {}%로 적당한 편입니다.\".format(w_info[\"humidity\"])\n",
    "    elif w_info[\"humidity\"] >=60 :\n",
    "        article_humidity = \" 오늘은 습도가 {}%로 습합니다.\".format(w_info[\"humidity\"])\n",
    "        \n",
    "        \n",
    "    if w_info[\"wind_speed\"] <=1.5:\n",
    "        article_wind = \" 현재 풍속은 {}로 실바람이 불고 있습니다. 바람의 방향은 연기가 날리는 것으로 알 수 있으나, 바람개비에는 감지가 안되는 정도의 바람입니다.\".format(w_info[\"wind_speed\"])\n",
    "    elif (1.5<w_info[\"wind_speed\"] <=3.3):\n",
    "        article_wind = \" 현재 풍속은 {}로 남실바람이 불고 있습니다. 얼굴에 바람이 느껴지고 나뭇잎이 흔들리며 바람개비에 감지가 되는 수준의 바람입니다.\".format(w_info[\"wind_speed\"])\n",
    "    elif (3.3<w_info[\"wind_speed\"] <=5.4):\n",
    "        article_wind = \" 현재 풍속은 {}로 산들바람이 불고 있습니다. 나뭇잎과 가는 가지가 쉴새없이 흔들리고 깃발이 가볍게 휘날리는 수준의 바람입니다.\".format(w_info[\"wind_speed\"])\n",
    "    elif (5.4<w_info[\"wind_speed\"] <=7.9):\n",
    "        article_wind = \" 현재 풍속은 {}로 건들바람이 불고 있습니다. 먼지가 일고 종이조각이 날리며 작은나뭇가지가 흔들리는 정도의 바람입니다.\".format(w_info[\"wind_speed\"])\n",
    "    elif (7.9<w_info[\"wind_speed\"] <=10.7):\n",
    "        article_wind = \" 현재 풍속은 {}로 흔들바람이 불고 있습니다. 잎이 무성한 작은 나무 전체가 흔들리고 강물에 잔물결이 일어나는 정도의 바람입니다\".format(w_info[\"wind_speed\"])\n",
    "    elif w_info[\"wind_speed\"]>10.7:\n",
    "        article_wind = \" 현재 풍속은 {}로 바람이 굉장히 강합니다. 우산을 쓰기 어려운 수준이며, 되도록 실내에 있는 것이 좋습니다\".format(w_info[\"wind_speed\"])\n",
    "   \n",
    "    article_fin = \" 이상 {}의 날씨였습니다. 날씨 좋습니다:)\".format(w_info[\"city\"])\n",
    "    article = article_date+article_front+article_temp+article_d+article_humidity+article_wind+article_fin\n",
    "    return article\n"
   ]
  },
  {
   "cell_type": "code",
   "execution_count": 225,
   "metadata": {},
   "outputs": [],
   "source": [
    "#input을 함수에 넣으면 기사를 만드는 함수\n",
    "def article_generate(loc):\n",
    "    crawl = weather_fetch(loc)\n",
    "    weather_info = make_the_dic(crawl)\n",
    "    article_final = article(weather_info)\n",
    "    print(article_final)"
   ]
  },
  {
   "cell_type": "code",
   "execution_count": 226,
   "metadata": {
    "scrolled": true
   },
   "outputs": [],
   "source": [
    "#함수 자체에서 input을 넣을 수 있도록 함\n",
    "def global_article_generate_i():\n",
    "    loc = input('도시 이름을 영어로 입력하세요.')\n",
    "    crawl = weather_fetch(loc)\n",
    "    weather_info = make_the_dic(crawl)\n",
    "    article_final = article(weather_info)\n",
    "    print(article_final)"
   ]
  },
  {
   "cell_type": "code",
   "execution_count": 227,
   "metadata": {
    "scrolled": true
   },
   "outputs": [
    {
     "name": "stdout",
     "output_type": "stream",
     "text": [
      "도시 이름을 영어로 입력하세요.seoul\n",
      "오늘은 2019년 12월 2일 입니다. 현재 시각 12시 40분, seoul의 날씨를 안내해드리겠습니다. 오늘 seoul의 날씨는 맑겠습니다. 기온은 3.28도로 한국의 겨울 날씨입니다. 최저 기온은 2도, 최고기온은 5입니다. 오늘은 습도가 34%로 건조합니다. 현재 풍속은 2.6로 남실바람이 불고 있습니다. 얼굴에 바람이 느껴지고 나뭇잎이 흔들리며 바람개비에 감지가 되는 수준의 바람입니다. 이상 seoul의 날씨였습니다. 날씨 좋습니다:)\n"
     ]
    }
   ],
   "source": [
    "global_article_generate_i()"
   ]
  },
  {
   "cell_type": "code",
   "execution_count": 228,
   "metadata": {},
   "outputs": [
    {
     "name": "stdout",
     "output_type": "stream",
     "text": [
      "도시 이름을 영어로 입력하세요.tokyo\n",
      "오늘은 2019년 12월 2일 입니다. 현재 시각 12시 40분, tokyo의 날씨를 안내해드리겠습니다.현재 tokyo에서는 비가 내리고 있습니다. 기온은 12.14도로 한국의 봄,가을 날씨입니다. 최저 기온은 8도, 최고기온은 19입니다. 오늘은 일교차가 11도로 큽니다. 감기 조심하세요 오늘은 습도가 100%로 습합니다. 현재 풍속은 2.6로 남실바람이 불고 있습니다. 얼굴에 바람이 느껴지고 나뭇잎이 흔들리며 바람개비에 감지가 되는 수준의 바람입니다. 이상 tokyo의 날씨였습니다. 날씨 좋습니다:)\n"
     ]
    }
   ],
   "source": [
    "global_article_generate_i()"
   ]
  },
  {
   "cell_type": "code",
   "execution_count": 229,
   "metadata": {},
   "outputs": [
    {
     "name": "stdout",
     "output_type": "stream",
     "text": [
      "도시 이름을 영어로 입력하세요.paris\n",
      "오늘은 2019년 12월 2일 입니다. 현재 시각 12시 40분, paris의 날씨를 안내해드리겠습니다. 오늘 paris의 날씨는 맑겠습니다. 기온은 0.25도로 한국의 겨울 날씨입니다. 최저 기온은 -1.67도, 최고기온은 1.67입니다. 오늘은 습도가 80%로 습합니다. 현재 풍속은 3.6로 산들바람이 불고 있습니다. 나뭇잎과 가는 가지가 쉴새없이 흔들리고 깃발이 가볍게 휘날리는 수준의 바람입니다. 이상 paris의 날씨였습니다. 날씨 좋습니다:)\n"
     ]
    }
   ],
   "source": [
    "global_article_generate_i()"
   ]
  },
  {
   "cell_type": "code",
   "execution_count": 230,
   "metadata": {},
   "outputs": [
    {
     "name": "stdout",
     "output_type": "stream",
     "text": [
      "도시 이름을 영어로 입력하세요.kota kinabalu\n",
      "오늘은 2019년 12월 2일 입니다. 현재 시각 12시 40분, kota kinabalu의 날씨를 안내해드리겠습니다.현재 kota kinabalu에서는 구름이 낀 흐린 날씨입니다. 기온은 32도로 한국의 여름 날씨입니다. 최저 기온은 32도, 최고기온은 32입니다. 오늘은 습도가 59%로 적당한 편입니다. 현재 풍속은 2.6로 남실바람이 불고 있습니다. 얼굴에 바람이 느껴지고 나뭇잎이 흔들리며 바람개비에 감지가 되는 수준의 바람입니다. 이상 kota kinabalu의 날씨였습니다. 날씨 좋습니다:)\n"
     ]
    }
   ],
   "source": [
    "global_article_generate_i()"
   ]
  },
  {
   "cell_type": "code",
   "execution_count": null,
   "metadata": {},
   "outputs": [],
   "source": []
  }
 ],
 "metadata": {
  "kernelspec": {
   "display_name": "Python 3",
   "language": "python",
   "name": "python3"
  },
  "language_info": {
   "codemirror_mode": {
    "name": "ipython",
    "version": 3
   },
   "file_extension": ".py",
   "mimetype": "text/x-python",
   "name": "python",
   "nbconvert_exporter": "python",
   "pygments_lexer": "ipython3",
   "version": "3.7.3"
  }
 },
 "nbformat": 4,
 "nbformat_minor": 2
}
