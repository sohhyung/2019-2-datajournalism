{
 "cells": [
  {
   "cell_type": "markdown",
   "metadata": {},
   "source": [
    "# Assignment \\#2-1: Python Crash Course 1\n",
    "\n",
    "* 파일 이름: A2-1-학번-이름(영어로).iphynb 형식으로 (예: A2-1-13403-999-jiyoon.iphynb)"
   ]
  },
  {
   "cell_type": "markdown",
   "metadata": {},
   "source": [
    "#1. 다음의 프로그램을 작성하시오. (input()함수를 사용할 것)\n",
    "\n",
    "> 안녕하세요. 성을 입력해 주세요:  (성 입력의 예: 홍)\n",
    ">\n",
    "> 이름을 입력해 주세요:  (이름 입력의 예: 길동)\n",
    ">\n",
    "> 홍길동님의 나이는 몇살인가요: (나이 입력의 예: 30)\n",
    ">\n",
    "> 홍길동님은 지금까지 모두 ** xxxx **초를 살아왔군요.  \n",
    ">\n",
    "> 지금까지 이용해 주셔서 감사합니다. 홍길동님.\n",
    "\n",
    "(참고) 입력받은 나이는 숫자(int)가 아니라 문자열(string)임. 윤년 계산 등은 무시할 것."
   ]
  },
  {
   "cell_type": "code",
   "execution_count": 1,
   "metadata": {},
   "outputs": [
    {
     "name": "stdout",
     "output_type": "stream",
     "text": [
      "안녕하세요. 성을 입력해 주세요:박\n",
      "이름을 입력해 주세요:소형\n",
      "박소형님의 나이는 몇살인가요:24\n",
      "박소형님은 지금까지 모두 756864000초를 살아왔군요.\n",
      "지금까지 이용해 주셔서 감사합니다.박소형님\n"
     ]
    }
   ],
   "source": [
    "# 여기에 코드를 입력하세요.\n",
    "last_name = input('안녕하세요. 성을 입력해 주세요:')\n",
    "first_name = input('이름을 입력해 주세요:')\n",
    "age =input(last_name + first_name+'님의 나이는 몇살인가요:')\n",
    "age_second = int(age)*365*24*60*60\n",
    "print(last_name + first_name + \"님은 지금까지 모두 \" + str(age_second) +\"초를 살아왔군요.\")\n",
    "print(\"지금까지 이용해 주셔서 감사합니다.\"+ last_name + first_name+\"님\")"
   ]
  },
  {
   "cell_type": "markdown",
   "metadata": {},
   "source": [
    "#2. 다음을 계산하는 메소드를 만들고 계산 예를 적으시오.\n",
    "\n",
    "> 섭씨 <-> 화씨 변환 \n",
    "\n",
    "> 인치 <-> 센치 변환\n",
    "\n",
    "출력의 예: \n",
    "\n",
    "> 섭씨 oo도는 화씨로 oo도 입니다.\n",
    "\n",
    "> oo인치는 oo센티미터 입니다.\n",
    "\n",
    "(참고) round() 함수를 사용해 보자: round() 함수는 지정한 소수점에서 반올림하여 결과를 표시한다.\n",
    "\n",
    "> round(3.954839283, 3) # 소수점 3째 자리에서 반올림\n",
    "\n",
    "> 3.955 "
   ]
  },
  {
   "cell_type": "code",
   "execution_count": 11,
   "metadata": {},
   "outputs": [
    {
     "name": "stdout",
     "output_type": "stream",
     "text": [
      "섭씨 32도는 화씨로 89.6도 입니다.\n",
      "화씨 80도는 섭씨로 26.7도 입니다.\n",
      "26인치는 66.04센티미터입니다.\n",
      "58센티미터는 22.83인치입니다.\n"
     ]
    }
   ],
   "source": [
    "# 여기에 코드를 입력하세요.\n",
    "def celsius_to_fahrenheit(celsius):\n",
    "    tmp = celsius*9/5+32\n",
    "    fahrenheit = round(tmp,1)\n",
    "    result = \"섭씨 \"+str(celsius)+\"도는 화씨로 \"+str(fahrenheit)+\"도 입니다.\"\n",
    "    print(result)\n",
    "\n",
    "\n",
    "def fahrenheit_to_celsius(fahrenheit):\n",
    "    tmp = (fahrenheit-32)*5/9\n",
    "    celsius = round(tmp,1)\n",
    "    result = \"화씨 \"+str(fahrenheit)+\"도는 섭씨로 \"+str(celsius)+\"도 입니다.\"\n",
    "    print(result)\n",
    "\n",
    "\n",
    "\n",
    "celsius1 = 32\n",
    "fahrenheit1 = celsius_to_fahrenheit(celsius1)\n",
    "fahrenheit2 = 80\n",
    "celsius2 = fahrenheit_to_celsius(fahrenheit2)\n",
    "\n",
    "def inch_to_cm(inch):\n",
    "    tmp = inch*2.54\n",
    "    cm = round(tmp,2)\n",
    "    result = str(inch)+\"인치는 \"+str(cm)+\"센티미터입니다.\"\n",
    "    print(result)\n",
    "\n",
    "def cm_to_inch(cm):\n",
    "    tmp = cm/2.54\n",
    "    inch = round(tmp,2)\n",
    "    result = str(cm)+\"센티미터는 \"+str(inch)+\"인치입니다.\"\n",
    "    print(result)\n",
    "\n",
    "inch1 = 26\n",
    "cm1 = inch_to_cm(inch1)\n",
    "cm2 = 58\n",
    "inch2 = cm_to_inch(cm2)\n"
   ]
  },
  {
   "cell_type": "markdown",
   "metadata": {},
   "source": [
    "#3. 다음을 출력하는 프로그램을 작성하시오.\n",
    "\n",
    "> 오늘은 oooo년 o월 o일, 크리스마스까지는 oo일 이나 남았네. 이 수업도 이제 oo번 밖에 안남았구나!"
   ]
  },
  {
   "cell_type": "code",
   "execution_count": 1,
   "metadata": {},
   "outputs": [
    {
     "name": "stdout",
     "output_type": "stream",
     "text": [
      "2019-12-25\n",
      "2019-09-15\n",
      "101\n",
      "오늘은 2019년 9월 15일, 크리스마스까지는 101일이나 남았네. 이 수업도 이제 14번 밖에 안남았구나!\n"
     ]
    }
   ],
   "source": [
    "# 여기에 코드를 입력하세요.\n",
    "import datetime \n",
    "date1 = datetime.date(2019,12,25)\n",
    "date2 = datetime.date.today()\n",
    "print(date1)\n",
    "print(date2)\n",
    "day_remain = date1.toordinal()-date2.toordinal()\n",
    "print(day_remain)\n",
    "result = \"오늘은 \"+ str(date2.year)+\"년 \"+str(date2.month)+\"월 \"+ str(date2.day)+\"일, 크리스마스까지는 \"+str(day_remain)+\"일이나 남았네.\"\n",
    "date3 = datetime.date(2019,12,16)\n",
    "class_remain = int((date3.toordinal()-date2.toordinal())/7)+1\n",
    "result = result + \" 이 수업도 이제 \"+str(class_remain)+\"번 밖에 안남았구나!\"\n",
    "print(result)"
   ]
  }
 ],
 "metadata": {
  "kernelspec": {
   "display_name": "Python 3",
   "language": "python",
   "name": "python3"
  },
  "language_info": {
   "codemirror_mode": {
    "name": "ipython",
    "version": 3
   },
   "file_extension": ".py",
   "mimetype": "text/x-python",
   "name": "python",
   "nbconvert_exporter": "python",
   "pygments_lexer": "ipython3",
   "version": "3.7.3"
  }
 },
 "nbformat": 4,
 "nbformat_minor": 1
}
