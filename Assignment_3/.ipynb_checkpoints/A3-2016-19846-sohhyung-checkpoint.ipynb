{
 "cells": [
  {
   "cell_type": "markdown",
   "metadata": {},
   "source": [
    "# Assignment 3 - Data Cleaning and Analysis\n",
    "\n",
    "이번 과제에서 학생들은 주어진 데이터를 clean up 하고 분석하는 연습을 하게 될 것이다.\n",
    "\n",
    "두개의 지정된 질문에 대한 답을 하여야 하고 세개의 질문을 스스로 만들어 코드와 함께 결과를 제시한다.\n",
    "\n",
    "* 파일 이름: A3-학번-이름(영어로).iphynb 형식으로 (예: A3-13403-999-jiyoon.iphynb)"
   ]
  },
  {
   "cell_type": "markdown",
   "metadata": {},
   "source": [
    "### Dataset\n",
    "\n",
    "타이타닉호의 모든 승객, 승무원의 정보와 생존자, 사망자 정보는 다음의 웹사이트에 잘 정리되어있다.\n",
    "* http://biostat.mc.vanderbilt.edu/wiki/pub/Main/DataSets/titanic.html\n",
    "\n",
    "본 과제에서 제시하는 데이터는 해당 웹사이트의 정보를 담고 있다. 다음의 데이터를 다운로드하여 분석하고 아래의 질문에 답하시오.\n",
    "* 데이터: http://biostat.mc.vanderbilt.edu/wiki/pub/Main/DataSets/titanic3.xls\n",
    "* 데이터 설명: http://biostat.mc.vanderbilt.edu/wiki/pub/Main/DataSets/titanic.html\n",
    "* 데이터 변수 설명: http://biostat.mc.vanderbilt.edu/wiki/pub/Main/DataSets/titanic3info.txt"
   ]
  },
  {
   "cell_type": "code",
   "execution_count": 1,
   "metadata": {},
   "outputs": [
    {
     "data": {
      "text/html": [
       "<div>\n",
       "<style scoped>\n",
       "    .dataframe tbody tr th:only-of-type {\n",
       "        vertical-align: middle;\n",
       "    }\n",
       "\n",
       "    .dataframe tbody tr th {\n",
       "        vertical-align: top;\n",
       "    }\n",
       "\n",
       "    .dataframe thead th {\n",
       "        text-align: right;\n",
       "    }\n",
       "</style>\n",
       "<table border=\"1\" class=\"dataframe\">\n",
       "  <thead>\n",
       "    <tr style=\"text-align: right;\">\n",
       "      <th></th>\n",
       "      <th>pclass</th>\n",
       "      <th>survived</th>\n",
       "      <th>name</th>\n",
       "      <th>sex</th>\n",
       "      <th>age</th>\n",
       "      <th>sibsp</th>\n",
       "      <th>parch</th>\n",
       "      <th>ticket</th>\n",
       "      <th>fare</th>\n",
       "      <th>cabin</th>\n",
       "      <th>embarked</th>\n",
       "      <th>boat</th>\n",
       "      <th>body</th>\n",
       "      <th>home.dest</th>\n",
       "    </tr>\n",
       "  </thead>\n",
       "  <tbody>\n",
       "    <tr>\n",
       "      <th>0</th>\n",
       "      <td>1</td>\n",
       "      <td>1</td>\n",
       "      <td>Allen, Miss. Elisabeth Walton</td>\n",
       "      <td>female</td>\n",
       "      <td>29.0000</td>\n",
       "      <td>0</td>\n",
       "      <td>0</td>\n",
       "      <td>24160</td>\n",
       "      <td>211.3375</td>\n",
       "      <td>B5</td>\n",
       "      <td>S</td>\n",
       "      <td>2</td>\n",
       "      <td>NaN</td>\n",
       "      <td>St Louis, MO</td>\n",
       "    </tr>\n",
       "    <tr>\n",
       "      <th>1</th>\n",
       "      <td>1</td>\n",
       "      <td>1</td>\n",
       "      <td>Allison, Master. Hudson Trevor</td>\n",
       "      <td>male</td>\n",
       "      <td>0.9167</td>\n",
       "      <td>1</td>\n",
       "      <td>2</td>\n",
       "      <td>113781</td>\n",
       "      <td>151.5500</td>\n",
       "      <td>C22 C26</td>\n",
       "      <td>S</td>\n",
       "      <td>11</td>\n",
       "      <td>NaN</td>\n",
       "      <td>Montreal, PQ / Chesterville, ON</td>\n",
       "    </tr>\n",
       "    <tr>\n",
       "      <th>2</th>\n",
       "      <td>1</td>\n",
       "      <td>0</td>\n",
       "      <td>Allison, Miss. Helen Loraine</td>\n",
       "      <td>female</td>\n",
       "      <td>2.0000</td>\n",
       "      <td>1</td>\n",
       "      <td>2</td>\n",
       "      <td>113781</td>\n",
       "      <td>151.5500</td>\n",
       "      <td>C22 C26</td>\n",
       "      <td>S</td>\n",
       "      <td>NaN</td>\n",
       "      <td>NaN</td>\n",
       "      <td>Montreal, PQ / Chesterville, ON</td>\n",
       "    </tr>\n",
       "    <tr>\n",
       "      <th>3</th>\n",
       "      <td>1</td>\n",
       "      <td>0</td>\n",
       "      <td>Allison, Mr. Hudson Joshua Creighton</td>\n",
       "      <td>male</td>\n",
       "      <td>30.0000</td>\n",
       "      <td>1</td>\n",
       "      <td>2</td>\n",
       "      <td>113781</td>\n",
       "      <td>151.5500</td>\n",
       "      <td>C22 C26</td>\n",
       "      <td>S</td>\n",
       "      <td>NaN</td>\n",
       "      <td>135.0</td>\n",
       "      <td>Montreal, PQ / Chesterville, ON</td>\n",
       "    </tr>\n",
       "    <tr>\n",
       "      <th>4</th>\n",
       "      <td>1</td>\n",
       "      <td>0</td>\n",
       "      <td>Allison, Mrs. Hudson J C (Bessie Waldo Daniels)</td>\n",
       "      <td>female</td>\n",
       "      <td>25.0000</td>\n",
       "      <td>1</td>\n",
       "      <td>2</td>\n",
       "      <td>113781</td>\n",
       "      <td>151.5500</td>\n",
       "      <td>C22 C26</td>\n",
       "      <td>S</td>\n",
       "      <td>NaN</td>\n",
       "      <td>NaN</td>\n",
       "      <td>Montreal, PQ / Chesterville, ON</td>\n",
       "    </tr>\n",
       "  </tbody>\n",
       "</table>\n",
       "</div>"
      ],
      "text/plain": [
       "   pclass  survived                                             name     sex  \\\n",
       "0       1         1                    Allen, Miss. Elisabeth Walton  female   \n",
       "1       1         1                   Allison, Master. Hudson Trevor    male   \n",
       "2       1         0                     Allison, Miss. Helen Loraine  female   \n",
       "3       1         0             Allison, Mr. Hudson Joshua Creighton    male   \n",
       "4       1         0  Allison, Mrs. Hudson J C (Bessie Waldo Daniels)  female   \n",
       "\n",
       "       age  sibsp  parch  ticket      fare    cabin embarked boat   body  \\\n",
       "0  29.0000      0      0   24160  211.3375       B5        S    2    NaN   \n",
       "1   0.9167      1      2  113781  151.5500  C22 C26        S   11    NaN   \n",
       "2   2.0000      1      2  113781  151.5500  C22 C26        S  NaN    NaN   \n",
       "3  30.0000      1      2  113781  151.5500  C22 C26        S  NaN  135.0   \n",
       "4  25.0000      1      2  113781  151.5500  C22 C26        S  NaN    NaN   \n",
       "\n",
       "                         home.dest  \n",
       "0                     St Louis, MO  \n",
       "1  Montreal, PQ / Chesterville, ON  \n",
       "2  Montreal, PQ / Chesterville, ON  \n",
       "3  Montreal, PQ / Chesterville, ON  \n",
       "4  Montreal, PQ / Chesterville, ON  "
      ]
     },
     "execution_count": 1,
     "metadata": {},
     "output_type": "execute_result"
    }
   ],
   "source": [
    "import pandas as pd\n",
    "import numpy as np\n",
    "data_origin = pd.read_excel(\"titanic3.xls\")\n",
    "data_origin.head()"
   ]
  },
  {
   "cell_type": "markdown",
   "metadata": {},
   "source": [
    "### Q1: 생존자와 사망자의 평균 나이를 남녀를 구분하여 계산하시오."
   ]
  },
  {
   "cell_type": "code",
   "execution_count": 2,
   "metadata": {
    "scrolled": false
   },
   "outputs": [
    {
     "name": "stdout",
     "output_type": "stream",
     "text": [
      "   survived     sex      age      fare\n",
      "0         1  female  29.0000  211.3375\n",
      "1         1    male   0.9167  151.5500\n",
      "5         1    male  48.0000   26.5500\n",
      "6         1  female  63.0000   77.9583\n",
      "8         1  female  53.0000   51.4792\n",
      "   survived     sex   age      fare\n",
      "2         0  female   2.0  151.5500\n",
      "3         0    male  30.0  151.5500\n",
      "4         0  female  25.0  151.5500\n",
      "7         0    male  39.0    0.0000\n",
      "9         0    male  71.0   49.5042\n"
     ]
    }
   ],
   "source": [
    "data1 = data_origin[[\"survived\", \"sex\", \"age\",\"fare\"]]\n",
    "\n",
    "data_survived = data1[data1[\"survived\"]==1]\n",
    "print(data_survived.head())\n",
    "data_died = data1[data1[\"survived\"]==0]\n",
    "print(data_died.head())"
   ]
  },
  {
   "cell_type": "code",
   "execution_count": 3,
   "metadata": {
    "scrolled": false
   },
   "outputs": [
    {
     "name": "stdout",
     "output_type": "stream",
     "text": [
      "생존자 평균 나이\n",
      "sex\n",
      "female    29.815354\n",
      "male      26.977778\n",
      "Name: age, dtype: float64\n"
     ]
    }
   ],
   "source": [
    "print(\"생존자 평균 나이\")\n",
    "data_survived_mean = data_survived[\"age\"].groupby(data_survived[\"sex\"])\n",
    "print(data_survived_mean.mean())"
   ]
  },
  {
   "cell_type": "code",
   "execution_count": 4,
   "metadata": {
    "scrolled": true
   },
   "outputs": [
    {
     "name": "stdout",
     "output_type": "stream",
     "text": [
      "사망자 평균 나이\n",
      "sex\n",
      "female    25.255208\n",
      "male      31.516412\n",
      "Name: age, dtype: float64\n"
     ]
    }
   ],
   "source": [
    "print(\"사망자 평균 나이\")\n",
    "data_died_mean = data_died[\"age\"].groupby(data_died[\"sex\"])\n",
    "print(data_died_mean.mean())"
   ]
  },
  {
   "cell_type": "markdown",
   "metadata": {},
   "source": [
    "### Q2: 생존자의 평균 티켓 가격과 사망자의 평균 티켓 가격을 구하고 비교하시오."
   ]
  },
  {
   "cell_type": "code",
   "execution_count": 5,
   "metadata": {
    "scrolled": false
   },
   "outputs": [
    {
     "data": {
      "text/plain": [
       "survived\n",
       "0    23.353831\n",
       "1    49.361184\n",
       "Name: fare, dtype: float64"
      ]
     },
     "execution_count": 5,
     "metadata": {},
     "output_type": "execute_result"
    }
   ],
   "source": [
    "ticket_mean = data1[\"fare\"].groupby(data1[\"survived\"])\n",
    "ticket_mean.mean()"
   ]
  },
  {
   "cell_type": "markdown",
   "metadata": {},
   "source": [
    "### Q3: First class, Second Class, Third class의 생존 비율을 구하고 비교하시오."
   ]
  },
  {
   "cell_type": "code",
   "execution_count": 6,
   "metadata": {},
   "outputs": [],
   "source": [
    "#가정 : 더 높은 class의 passenger가 더 많이 생존했을 것이다."
   ]
  },
  {
   "cell_type": "code",
   "execution_count": 7,
   "metadata": {},
   "outputs": [
    {
     "name": "stdout",
     "output_type": "stream",
     "text": [
      "   pclass  survived      age     sex\n",
      "0       1         1  29.0000  female\n",
      "1       1         1   0.9167    male\n",
      "2       1         0   2.0000  female\n",
      "3       1         0  30.0000    male\n",
      "4       1         0  25.0000  female\n",
      "     pclass  survived   age     sex\n",
      "323       2         0  30.0    male\n",
      "324       2         1  28.0  female\n",
      "325       2         0  30.0    male\n",
      "326       2         0  18.0    male\n",
      "327       2         0  25.0    male\n",
      "     pclass  survived   age     sex\n",
      "600       3         0  42.0    male\n",
      "601       3         0  13.0    male\n",
      "602       3         0  16.0    male\n",
      "603       3         1  35.0  female\n",
      "604       3         1  16.0  female\n"
     ]
    }
   ],
   "source": [
    "data2 = data_origin[[\"pclass\",\"survived\",\"age\",\"sex\"]]\n",
    "\n",
    "data_class1 = data2[data2[\"pclass\"]==1]\n",
    "print(data_class1.head())\n",
    "\n",
    "\n",
    "data_class2 = data2[data2[\"pclass\"]==2]\n",
    "print(data_class2.head())\n",
    "\n",
    "data_class3 = data2[data2[\"pclass\"]==3]\n",
    "print(data_class3.head())\n"
   ]
  },
  {
   "cell_type": "code",
   "execution_count": 8,
   "metadata": {},
   "outputs": [
    {
     "name": "stdout",
     "output_type": "stream",
     "text": [
      "First class : 0.6191950464396285\n",
      "Second class : 0.4296028880866426\n",
      "Third class : 0.2552891396332863\n"
     ]
    }
   ],
   "source": [
    "prob_1 = len(data_class1[data_class1[\"survived\"]==1])/len(data_class1)\n",
    "print(\"First class : \"+str(prob_1))\n",
    "prob_2 = len(data_class2[data_class2[\"survived\"]==1])/len(data_class2)\n",
    "print(\"Second class : \"+str(prob_2))\n",
    "prob_3 = len(data_class3[data_class3[\"survived\"]==1])/len(data_class3)\n",
    "print(\"Third class : \"+str(prob_3))"
   ]
  },
  {
   "cell_type": "markdown",
   "metadata": {},
   "source": [
    "### Q4: 각 class별 생존자 대비 여성 비율, 여성 중 생존한 사람의 비율을 구하시오 "
   ]
  },
  {
   "cell_type": "code",
   "execution_count": 9,
   "metadata": {},
   "outputs": [],
   "source": [
    "#가설 : first class 여성의 생존 비율이 가장 높을 것이다. \n",
    "#가설 : 여성의 생존 비율은 모든 class에서 높을 것이다.\n",
    "#가설 : class가 높을 수록 여성의 생존 비율도 높아질 것이다."
   ]
  },
  {
   "cell_type": "code",
   "execution_count": 10,
   "metadata": {},
   "outputs": [
    {
     "name": "stdout",
     "output_type": "stream",
     "text": [
      "[0.43034056 0.695      0.96527778]\n",
      "[323 200 144 139]\n"
     ]
    }
   ],
   "source": [
    "data_class1_s = data_class1[data_class1[\"survived\"]==1]\n",
    "prob_c1_1 = len(data_class1_s[data_class1_s[\"sex\"]==\"female\"])/len(data_class1)\n",
    "prob_c1_2 = len(data_class1_s[data_class1_s[\"sex\"]==\"female\"])/len(data_class1_s)\n",
    "prob_c1_3 = len(data_class1_s[data_class1_s[\"sex\"]==\"female\"])/len(data_class1[data_class1[\"sex\"]==\"female\"])\n",
    "class1 = np.array([prob_c1_1, prob_c1_2, prob_c1_3])\n",
    "class1_1 = np.array([len(data_class1),len(data_class1_s),len(data_class1[data_class1[\"sex\"]==\"female\"]),len(data_class1_s[data_class1_s[\"sex\"]==\"female\"])])\n",
    "print(class1)\n",
    "print(class1_1)"
   ]
  },
  {
   "cell_type": "code",
   "execution_count": 11,
   "metadata": {},
   "outputs": [
    {
     "name": "stdout",
     "output_type": "stream",
     "text": [
      "[0.33935018 0.78991597 0.88679245]\n",
      "[277 119 106  94]\n"
     ]
    }
   ],
   "source": [
    "data_class2_s = data_class2[data_class2[\"survived\"]==1]\n",
    "prob_c2_1 = len(data_class2_s[data_class2_s[\"sex\"]==\"female\"])/len(data_class2)\n",
    "prob_c2_2 = len(data_class2_s[data_class2_s[\"sex\"]==\"female\"])/len(data_class2_s)\n",
    "prob_c2_3 = len(data_class2_s[data_class2_s[\"sex\"]==\"female\"])/len(data_class2[data_class2[\"sex\"]==\"female\"])\n",
    "class2 = np.array([prob_c2_1, prob_c2_2, prob_c2_3])\n",
    "class2_1 = np.array([len(data_class2),len(data_class2_s),len(data_class2[data_class2[\"sex\"]==\"female\"]),len(data_class2_s[data_class2_s[\"sex\"]==\"female\"])])\n",
    "print(class2)\n",
    "print(class2_1)"
   ]
  },
  {
   "cell_type": "code",
   "execution_count": 12,
   "metadata": {},
   "outputs": [
    {
     "name": "stdout",
     "output_type": "stream",
     "text": [
      "[0.14950635 0.58563536 0.49074074]\n",
      "[709 181 216 106]\n"
     ]
    }
   ],
   "source": [
    "data_class3_s = data_class3[data_class3[\"survived\"]==1]\n",
    "prob_c3_1 = len(data_class3_s[data_class3_s[\"sex\"]==\"female\"])/len(data_class3)\n",
    "prob_c3_2 = len(data_class3_s[data_class3_s[\"sex\"]==\"female\"])/len(data_class3_s)\n",
    "prob_c3_3 = len(data_class3_s[data_class3_s[\"sex\"]==\"female\"])/len(data_class3[data_class3[\"sex\"]==\"female\"])\n",
    "class3 = np.array([prob_c3_1, prob_c3_2, prob_c3_3])\n",
    "class3_1 = np.array([len(data_class3),len(data_class3_s),len(data_class3[data_class3[\"sex\"]==\"female\"]),len(data_class3_s[data_class3_s[\"sex\"]==\"female\"])])\n",
    "print(class3)\n",
    "print(class3_1)"
   ]
  },
  {
   "cell_type": "code",
   "execution_count": 13,
   "metadata": {
    "scrolled": true
   },
   "outputs": [
    {
     "name": "stdout",
     "output_type": "stream",
     "text": [
      "              전체 대비 생존 여성 비율  전체 생존자 중 여성의 비율  여성 중 생존자 비율\n",
      "First class         0.430341         0.695000     0.965278\n",
      "Second class        0.339350         0.789916     0.886792\n",
      "Third class         0.149506         0.585635     0.490741\n",
      "               전체  생존자 수  여성의 수  생존 여성의 수\n",
      "First class   323    200    144       139\n",
      "Second class  277    119    106        94\n",
      "Third class   709    181    216       106\n"
     ]
    }
   ],
   "source": [
    "class_combine = np.array([class1, class2, class3])\n",
    "col_name = [\"전체 대비 생존 여성 비율\",\"전체 생존자 중 여성의 비율\",\"여성 중 생존자 비율\"]\n",
    "index_name = [\"First class\", \"Second class\", \"Third class\"]\n",
    "table_woman_prob = pd.DataFrame(class_combine, columns = col_name, index = index_name)\n",
    "print(table_woman_prob)\n",
    "\n",
    "class_combine2=np.array([class1_1, class2_1, class3_1])\n",
    "col_name2=[\"전체\",\"생존자 수\", \"여성의 수\", \"생존 여성의 수\"]\n",
    "table_woman=pd.DataFrame(class_combine2, columns = col_name2, index = index_name)\n",
    "\n",
    "print(table_woman)\n"
   ]
  },
  {
   "cell_type": "code",
   "execution_count": 14,
   "metadata": {
    "scrolled": true
   },
   "outputs": [
    {
     "data": {
      "text/html": [
       "<div>\n",
       "<style scoped>\n",
       "    .dataframe tbody tr th:only-of-type {\n",
       "        vertical-align: middle;\n",
       "    }\n",
       "\n",
       "    .dataframe tbody tr th {\n",
       "        vertical-align: top;\n",
       "    }\n",
       "\n",
       "    .dataframe thead th {\n",
       "        text-align: right;\n",
       "    }\n",
       "</style>\n",
       "<table border=\"1\" class=\"dataframe\">\n",
       "  <thead>\n",
       "    <tr style=\"text-align: right;\">\n",
       "      <th></th>\n",
       "      <th>전체 대비 생존 여성 비율</th>\n",
       "      <th>전체 생존자 중 여성의 비율</th>\n",
       "      <th>여성 중 생존자 비율</th>\n",
       "    </tr>\n",
       "  </thead>\n",
       "  <tbody>\n",
       "    <tr>\n",
       "      <th>First class</th>\n",
       "      <td>0.430341</td>\n",
       "      <td>0.695000</td>\n",
       "      <td>0.965278</td>\n",
       "    </tr>\n",
       "    <tr>\n",
       "      <th>Second class</th>\n",
       "      <td>0.339350</td>\n",
       "      <td>0.789916</td>\n",
       "      <td>0.886792</td>\n",
       "    </tr>\n",
       "    <tr>\n",
       "      <th>Third class</th>\n",
       "      <td>0.149506</td>\n",
       "      <td>0.585635</td>\n",
       "      <td>0.490741</td>\n",
       "    </tr>\n",
       "  </tbody>\n",
       "</table>\n",
       "</div>"
      ],
      "text/plain": [
       "              전체 대비 생존 여성 비율  전체 생존자 중 여성의 비율  여성 중 생존자 비율\n",
       "First class         0.430341         0.695000     0.965278\n",
       "Second class        0.339350         0.789916     0.886792\n",
       "Third class         0.149506         0.585635     0.490741"
      ]
     },
     "execution_count": 14,
     "metadata": {},
     "output_type": "execute_result"
    }
   ],
   "source": [
    "table_woman_prob"
   ]
  },
  {
   "cell_type": "code",
   "execution_count": 15,
   "metadata": {},
   "outputs": [
    {
     "data": {
      "text/html": [
       "<div>\n",
       "<style scoped>\n",
       "    .dataframe tbody tr th:only-of-type {\n",
       "        vertical-align: middle;\n",
       "    }\n",
       "\n",
       "    .dataframe tbody tr th {\n",
       "        vertical-align: top;\n",
       "    }\n",
       "\n",
       "    .dataframe thead th {\n",
       "        text-align: right;\n",
       "    }\n",
       "</style>\n",
       "<table border=\"1\" class=\"dataframe\">\n",
       "  <thead>\n",
       "    <tr style=\"text-align: right;\">\n",
       "      <th></th>\n",
       "      <th>전체</th>\n",
       "      <th>생존자 수</th>\n",
       "      <th>여성의 수</th>\n",
       "      <th>생존 여성의 수</th>\n",
       "    </tr>\n",
       "  </thead>\n",
       "  <tbody>\n",
       "    <tr>\n",
       "      <th>First class</th>\n",
       "      <td>323</td>\n",
       "      <td>200</td>\n",
       "      <td>144</td>\n",
       "      <td>139</td>\n",
       "    </tr>\n",
       "    <tr>\n",
       "      <th>Second class</th>\n",
       "      <td>277</td>\n",
       "      <td>119</td>\n",
       "      <td>106</td>\n",
       "      <td>94</td>\n",
       "    </tr>\n",
       "    <tr>\n",
       "      <th>Third class</th>\n",
       "      <td>709</td>\n",
       "      <td>181</td>\n",
       "      <td>216</td>\n",
       "      <td>106</td>\n",
       "    </tr>\n",
       "  </tbody>\n",
       "</table>\n",
       "</div>"
      ],
      "text/plain": [
       "               전체  생존자 수  여성의 수  생존 여성의 수\n",
       "First class   323    200    144       139\n",
       "Second class  277    119    106        94\n",
       "Third class   709    181    216       106"
      ]
     },
     "execution_count": 15,
     "metadata": {},
     "output_type": "execute_result"
    }
   ],
   "source": [
    "table_woman"
   ]
  },
  {
   "cell_type": "markdown",
   "metadata": {},
   "source": [
    "### Q5: 부모 자식, 형제 동승여부에 따른 생존율을 구하고 비교하시오"
   ]
  },
  {
   "cell_type": "code",
   "execution_count": 16,
   "metadata": {},
   "outputs": [
    {
     "name": "stdout",
     "output_type": "stream",
     "text": [
      "   survived  sibsp  parch     sex\n",
      "0         1      0      0  female\n",
      "1         1      1      2    male\n",
      "2         0      1      2  female\n",
      "3         0      1      2    male\n",
      "4         0      1      2  female\n"
     ]
    }
   ],
   "source": [
    "data3 = data_origin[[\"survived\",\"sibsp\",\"parch\",\"sex\"]]\n",
    "print(data3.head())"
   ]
  },
  {
   "cell_type": "code",
   "execution_count": 17,
   "metadata": {},
   "outputs": [
    {
     "name": "stdout",
     "output_type": "stream",
     "text": [
      "0.4569377990430622\n",
      "0.3468013468013468\n",
      "0.5342019543973942\n",
      "0.33532934131736525\n",
      "0.4563106796116505\n",
      "0.30253164556962026\n"
     ]
    }
   ],
   "source": [
    "sib_true_prob = len(data3.loc[(data3[\"sibsp\"]!=0)&(data3[\"survived\"]!=0),:])/len(data3.loc[data3[\"sibsp\"]!=0,:])\n",
    "print(sib_true_prob)\n",
    "sib_false_prob = len(data3.loc[(data3[\"sibsp\"]==0)&(data3[\"survived\"]!=0),:])/len(data3.loc[data3[\"sibsp\"]==0,:])\n",
    "print(sib_false_prob)\n",
    "sib_bool = np.array([sib_true_prob,sib_false_prob])\n",
    "\n",
    "parch_true_prob=len(data3.loc[(data3[\"parch\"]!=0)&(data3[\"survived\"]!=0),:])/len(data3.loc[data3[\"parch\"]!=0,:])\n",
    "print(parch_true_prob)\n",
    "parch_false_prob=len(data3.loc[(data3[\"parch\"]==0)&(data3[\"survived\"]!=0),:])/len(data3.loc[data3[\"parch\"]==0,:])\n",
    "print(parch_false_prob)\n",
    "par_bool = np.array([parch_true_prob, parch_false_prob])\n",
    "\n",
    "both_true = data3.loc[(data3[\"sibsp\"]!=0)&(data3[\"parch\"]!=0),:]\n",
    "both_true_prob = len(both_true[both_true[\"survived\"]==1])/len(both_true)\n",
    "print(both_true_prob)\n",
    "both_false = data3.loc[(data3[\"sibsp\"]==0)&(data3[\"parch\"]==0),:]\n",
    "both_false_prob = len(both_false[both_false[\"survived\"]==1])/len(both_false)\n",
    "print(both_false_prob)\n",
    "both_bool=np.array([both_true_prob, both_false_prob])"
   ]
  },
  {
   "cell_type": "code",
   "execution_count": 18,
   "metadata": {},
   "outputs": [
    {
     "name": "stdout",
     "output_type": "stream",
     "text": [
      "         형제     부모 자식       둘 다\n",
      "유  0.456938  0.534202  0.456311\n",
      "무  0.346801  0.335329  0.302532\n"
     ]
    }
   ],
   "source": [
    "fam_combine = np.array([sib_bool,par_bool,both_bool])\n",
    "cols_name = [\"유\",\"무\"]\n",
    "ind_name = [\"형제\",\"부모 자식\",\"둘 다\"]\n",
    "\n",
    "table_fam = pd.DataFrame(fam_combine,columns=cols_name,index = ind_name).T\n",
    "print(table_fam)"
   ]
  },
  {
   "cell_type": "code",
   "execution_count": 19,
   "metadata": {
    "scrolled": false
   },
   "outputs": [
    {
     "data": {
      "text/html": [
       "<div>\n",
       "<style scoped>\n",
       "    .dataframe tbody tr th:only-of-type {\n",
       "        vertical-align: middle;\n",
       "    }\n",
       "\n",
       "    .dataframe tbody tr th {\n",
       "        vertical-align: top;\n",
       "    }\n",
       "\n",
       "    .dataframe thead th {\n",
       "        text-align: right;\n",
       "    }\n",
       "</style>\n",
       "<table border=\"1\" class=\"dataframe\">\n",
       "  <thead>\n",
       "    <tr style=\"text-align: right;\">\n",
       "      <th></th>\n",
       "      <th>형제</th>\n",
       "      <th>부모 자식</th>\n",
       "      <th>둘 다</th>\n",
       "    </tr>\n",
       "  </thead>\n",
       "  <tbody>\n",
       "    <tr>\n",
       "      <th>유</th>\n",
       "      <td>0.456938</td>\n",
       "      <td>0.534202</td>\n",
       "      <td>0.456311</td>\n",
       "    </tr>\n",
       "    <tr>\n",
       "      <th>무</th>\n",
       "      <td>0.346801</td>\n",
       "      <td>0.335329</td>\n",
       "      <td>0.302532</td>\n",
       "    </tr>\n",
       "  </tbody>\n",
       "</table>\n",
       "</div>"
      ],
      "text/plain": [
       "         형제     부모 자식       둘 다\n",
       "유  0.456938  0.534202  0.456311\n",
       "무  0.346801  0.335329  0.302532"
      ]
     },
     "execution_count": 19,
     "metadata": {},
     "output_type": "execute_result"
    }
   ],
   "source": [
    "table_fam"
   ]
  },
  {
   "cell_type": "code",
   "execution_count": 20,
   "metadata": {
    "scrolled": true
   },
   "outputs": [
    {
     "name": "stdout",
     "output_type": "stream",
     "text": [
      "           생존율\n",
      "형제 수          \n",
      "0     0.346801\n",
      "1     0.510972\n",
      "2     0.452381\n",
      "3     0.300000\n",
      "4     0.136364\n",
      "5     0.000000\n",
      "8     0.000000\n"
     ]
    }
   ],
   "source": [
    "col_rename = {\"sibsp\":\"형제 수\"}\n",
    "data3 = data3.rename(columns=col_rename)\n",
    "survive_mean = data3[\"survived\"].groupby(data3[\"형제 수\"])\n",
    "survive_mean_table = survive_mean.mean().to_frame()\n",
    "\n",
    "\n",
    "\n",
    "col_rename = {\"survived\":\"생존율\"}\n",
    "table_sib_mean = survive_mean_table.rename(columns=col_rename)\n",
    "print(table_sib_mean)"
   ]
  },
  {
   "cell_type": "code",
   "execution_count": 21,
   "metadata": {},
   "outputs": [
    {
     "data": {
      "text/html": [
       "<div>\n",
       "<style scoped>\n",
       "    .dataframe tbody tr th:only-of-type {\n",
       "        vertical-align: middle;\n",
       "    }\n",
       "\n",
       "    .dataframe tbody tr th {\n",
       "        vertical-align: top;\n",
       "    }\n",
       "\n",
       "    .dataframe thead th {\n",
       "        text-align: right;\n",
       "    }\n",
       "</style>\n",
       "<table border=\"1\" class=\"dataframe\">\n",
       "  <thead>\n",
       "    <tr style=\"text-align: right;\">\n",
       "      <th></th>\n",
       "      <th>생존율</th>\n",
       "    </tr>\n",
       "    <tr>\n",
       "      <th>형제 수</th>\n",
       "      <th></th>\n",
       "    </tr>\n",
       "  </thead>\n",
       "  <tbody>\n",
       "    <tr>\n",
       "      <th>0</th>\n",
       "      <td>0.346801</td>\n",
       "    </tr>\n",
       "    <tr>\n",
       "      <th>1</th>\n",
       "      <td>0.510972</td>\n",
       "    </tr>\n",
       "    <tr>\n",
       "      <th>2</th>\n",
       "      <td>0.452381</td>\n",
       "    </tr>\n",
       "    <tr>\n",
       "      <th>3</th>\n",
       "      <td>0.300000</td>\n",
       "    </tr>\n",
       "    <tr>\n",
       "      <th>4</th>\n",
       "      <td>0.136364</td>\n",
       "    </tr>\n",
       "    <tr>\n",
       "      <th>5</th>\n",
       "      <td>0.000000</td>\n",
       "    </tr>\n",
       "    <tr>\n",
       "      <th>8</th>\n",
       "      <td>0.000000</td>\n",
       "    </tr>\n",
       "  </tbody>\n",
       "</table>\n",
       "</div>"
      ],
      "text/plain": [
       "           생존율\n",
       "형제 수          \n",
       "0     0.346801\n",
       "1     0.510972\n",
       "2     0.452381\n",
       "3     0.300000\n",
       "4     0.136364\n",
       "5     0.000000\n",
       "8     0.000000"
      ]
     },
     "execution_count": 21,
     "metadata": {},
     "output_type": "execute_result"
    }
   ],
   "source": [
    "table_sib_mean"
   ]
  },
  {
   "cell_type": "code",
   "execution_count": 22,
   "metadata": {},
   "outputs": [
    {
     "name": "stdout",
     "output_type": "stream",
     "text": [
      "              생존율\n",
      "부모 자식 수          \n",
      "0        0.335329\n",
      "1        0.588235\n",
      "2        0.504425\n",
      "3        0.625000\n",
      "4        0.166667\n",
      "5        0.166667\n",
      "6        0.000000\n",
      "9        0.000000\n"
     ]
    }
   ],
   "source": [
    "col_rename = {\"parch\":\"부모 자식 수\"}\n",
    "data3 = data3.rename(columns=col_rename)\n",
    "survive_mean2 = data3[\"survived\"].groupby(data3[\"부모 자식 수\"])\n",
    "survive_mean_table2 = survive_mean2.mean().to_frame()\n",
    "\n",
    "\n",
    "\n",
    "col_rename = {\"survived\":\"생존율\"}\n",
    "table_par_mean = survive_mean_table2.rename(columns=col_rename)\n",
    "print(table_par_mean)"
   ]
  }
 ],
 "metadata": {
  "kernelspec": {
   "display_name": "Python 3",
   "language": "python",
   "name": "python3"
  },
  "language_info": {
   "codemirror_mode": {
    "name": "ipython",
    "version": 3
   },
   "file_extension": ".py",
   "mimetype": "text/x-python",
   "name": "python",
   "nbconvert_exporter": "python",
   "pygments_lexer": "ipython3",
   "version": "3.7.3"
  }
 },
 "nbformat": 4,
 "nbformat_minor": 1
}
